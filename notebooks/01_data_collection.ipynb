{
 "cells": [
  {
   "cell_type": "markdown",
   "metadata": {},
   "source": [
    "# NBA Team Pattern Analysis - Data Collection\n",
    "\n",
    "In this notebook, we're gathering everything we need to understand NBA team patterns. Think of it like building the foundation of a house - we need all the right materials before we can start building.\n",
    "\n",
    "## What We're Collecting\n",
    "\n",
    "We're pulling together three massive datasets:\n",
    "\n",
    "1. **Shot Data (2004-2024)**\n",
    "   - Over 2.1 million shots\n",
    "   - Every single shot taken in NBA games\n",
    "   - Details like who took it, where they took it from, whether it went in\n",
    "   - This helps us understand how teams approach offense\n",
    "\n",
    "2. **Injury Data (1951-2023)**\n",
    "   - 23,450 injury records\n",
    "   - Every time a player got hurt or missed games\n",
    "   - Information about what happened and how long they were out\n",
    "   - This helps us understand how teams deal with player availability\n",
    "\n",
    "3. **Team Statistics (1951-2023)**\n",
    "   - 2,160 team seasons worth of data\n",
    "   - All the standard basketball stats\n",
    "   - Everything from points and rebounds to advanced metrics\n",
    "   - This gives us the big picture of how teams performed"
   ]
  },
  {
   "cell_type": "markdown",
   "metadata": {},
   "source": [
    "## Implementation\n",
    "\n",
    "We're building an automated system to collect all this data from Kaggle. First, let's set up our environment with the necessary tools."
   ]
  },
  {
   "cell_type": "code",
   "execution_count": 7,
   "metadata": {},
   "outputs": [],
   "source": [
    "import os\n",
    "import sys\n",
    "from datetime import datetime\n",
    "\n",
    "# Add the src directory to the Python path to access utility functions\n",
    "sys.path.append('..')\n",
    "\n",
    "# Import utility functions and classes for logging and progress tracking\n",
    "from src.data.utils import setup_logging, DataCollectionProgress\n",
    "from src.data.collectors.kaggle_collector import KaggleCollector\n",
    "\n",
    "# Set up logging to track the progress of the data collection process\n",
    "logger = setup_logging()\n",
    "\n",
    "# Initialize a progress tracker to monitor the status of each data collection task\n",
    "progress = DataCollectionProgress()\n",
    "\n",
    "# Initialize the KaggleCollector to manage dataset downloads\n",
    "kaggle = KaggleCollector('../data/raw/kaggle')"
   ]
  },
  {
   "cell_type": "markdown",
   "metadata": {},
   "source": [
    "### Collecting Shot Data\n",
    "\n",
    "First, let's get the shot location data. This will show us exactly how teams approach offense - where they shoot from, what kinds of shots they prefer, and how this has changed over time."
   ]
  },
  {
   "cell_type": "code",
   "execution_count": 8,
   "metadata": {},
   "outputs": [
    {
     "name": "stderr",
     "output_type": "stream",
     "text": [
      "2025-02-23 16:05:30 - INFO - Downloading dataset: nba_shots\n"
     ]
    },
    {
     "name": "stdout",
     "output_type": "stream",
     "text": [
      "Dataset URL: https://www.kaggle.com/datasets/mexwell/nba-shots\n"
     ]
    },
    {
     "name": "stderr",
     "output_type": "stream",
     "text": [
      "2025-02-23 16:07:04 - INFO - Successfully downloaded nba_shots\n",
      "2025-02-23 16:07:04 - INFO - Successfully downloaded NBA shots dataset\n"
     ]
    }
   ],
   "source": [
    "# Download NBA Shots Dataset\n",
    "progress.add_task('download_shots', total_steps=1)\n",
    "progress.start_task('download_shots')\n",
    "\n",
    "try:\n",
    "    result = kaggle.download_dataset('nba_shots', 'mexwell/nba-shots')\n",
    "    if result['status'] == 'success':\n",
    "        logger.info(\"Successfully downloaded NBA shots dataset\")\n",
    "        progress.complete_task('download_shots')\n",
    "    else:\n",
    "        logger.error(f\"Failed to download NBA shots dataset: {result['error']}\")\n",
    "        progress.complete_task('download_shots', success=False)\n",
    "except Exception as e:\n",
    "    logger.error(f\"Error downloading NBA shots dataset: {str(e)}\")\n",
    "    progress.complete_task('download_shots', success=False, error=str(e))"
   ]
  },
  {
   "cell_type": "markdown",
   "metadata": {},
   "source": [
    "### Collecting Injury Data\n",
    "\n",
    "Next, we'll gather the injury data. This is crucial for understanding how teams adapt when players are unavailable and how injuries affect team performance patterns."
   ]
  },
  {
   "cell_type": "code",
   "execution_count": 9,
   "metadata": {},
   "outputs": [
    {
     "name": "stderr",
     "output_type": "stream",
     "text": [
      "2025-02-23 16:07:04 - INFO - Downloading dataset: nba_injuries\n"
     ]
    },
    {
     "name": "stdout",
     "output_type": "stream",
     "text": [
      "Dataset URL: https://www.kaggle.com/datasets/loganlauton/nba-injury-stats-1951-2023\n"
     ]
    },
    {
     "name": "stderr",
     "output_type": "stream",
     "text": [
      "2025-02-23 16:07:05 - INFO - Successfully downloaded nba_injuries\n",
      "2025-02-23 16:07:05 - INFO - Successfully downloaded NBA injury stats dataset\n"
     ]
    }
   ],
   "source": [
    "# Download NBA Injury Stats Dataset\n",
    "progress.add_task('download_injuries', total_steps=1)\n",
    "progress.start_task('download_injuries')\n",
    "\n",
    "try:\n",
    "    result = kaggle.download_dataset('nba_injuries', 'loganlauton/nba-injury-stats-1951-2023')\n",
    "    if result['status'] == 'success':\n",
    "        logger.info(\"Successfully downloaded NBA injury stats dataset\")\n",
    "        progress.complete_task('download_injuries')\n",
    "    else:\n",
    "        logger.error(f\"Failed to download NBA injury stats dataset: {result['error']}\")\n",
    "        progress.complete_task('download_injuries', success=False)\n",
    "except Exception as e:\n",
    "    logger.error(f\"Error downloading NBA injury stats dataset: {str(e)}\")\n",
    "    progress.complete_task('download_injuries', success=False, error=str(e))"
   ]
  },
  {
   "cell_type": "markdown",
   "metadata": {},
   "source": [
    "### Collecting Team Statistics\n",
    "\n",
    "Finally, we'll get the comprehensive team statistics. This data gives us the big picture of how teams performed and how basketball has evolved over seven decades."
   ]
  },
  {
   "cell_type": "code",
   "execution_count": 10,
   "metadata": {},
   "outputs": [
    {
     "name": "stderr",
     "output_type": "stream",
     "text": [
      "2025-02-23 16:07:05 - INFO - Downloading dataset: nba_team_stats\n"
     ]
    },
    {
     "name": "stdout",
     "output_type": "stream",
     "text": [
      "Dataset URL: https://www.kaggle.com/datasets/sumitrodatta/nba-aba-baa-stats\n"
     ]
    },
    {
     "name": "stderr",
     "output_type": "stream",
     "text": [
      "2025-02-23 16:07:09 - INFO - Successfully downloaded nba_team_stats\n",
      "2025-02-23 16:07:09 - INFO - Successfully downloaded NBA team stats dataset\n"
     ]
    }
   ],
   "source": [
    "# Download NBA Team Stats Dataset\n",
    "progress.add_task('download_team_stats', total_steps=1)\n",
    "progress.start_task('download_team_stats')\n",
    "\n",
    "try:\n",
    "    result = kaggle.download_dataset('nba_team_stats', 'sumitrodatta/nba-aba-baa-stats')\n",
    "    if result['status'] == 'success':\n",
    "        logger.info(\"Successfully downloaded NBA team stats dataset\")\n",
    "        progress.complete_task('download_team_stats')\n",
    "    else:\n",
    "        logger.error(f\"Failed to download NBA team stats dataset: {result['error']}\")\n",
    "        progress.complete_task('download_team_stats', success=False)\n",
    "except Exception as e:\n",
    "    logger.error(f\"Error downloading NBA team stats dataset: {str(e)}\")\n",
    "    progress.complete_task('download_team_stats', success=False, error=str(e))"
   ]
  },
  {
   "cell_type": "markdown",
   "metadata": {},
   "source": [
    "## What We Learned\n",
    "\n",
    "During this data collection process, we discovered some interesting things:\n",
    "- The way NBA data is tracked has changed dramatically over time\n",
    "- Shot tracking became much more detailed after 2004\n",
    "- Injury reporting has become more standardized recently\n",
    "- Some teams changed names or moved cities, which we'll need to account for\n",
    "\n",
    "Let's verify our collection was successful and see what we've gathered."
   ]
  },
  {
   "cell_type": "code",
   "execution_count": 11,
   "metadata": {},
   "outputs": [
    {
     "name": "stdout",
     "output_type": "stream",
     "text": [
      "Data Collection Summary:\n",
      "Total Tasks: 3\n",
      "Completed Successfully: 3\n",
      "Failed: 0\n",
      "Total Duration: 0:01:38.885207\n",
      "\n",
      "Task Details:\n",
      "\n",
      "download_shots:\n",
      "  Status: completed\n",
      "  Duration: 0:01:33.967557\n",
      "\n",
      "download_injuries:\n",
      "  Status: completed\n",
      "  Duration: 0:00:00.843514\n",
      "\n",
      "download_team_stats:\n",
      "  Status: completed\n",
      "  Duration: 0:00:04.005904\n"
     ]
    }
   ],
   "source": [
    "# Get a summary of the data collection process\n",
    "summary = progress.get_summary()\n",
    "\n",
    "print(f\"Data Collection Summary:\")\n",
    "print(f\"Total Tasks: {summary['total_tasks']}\")\n",
    "print(f\"Completed Successfully: {summary['completed_tasks']}\")\n",
    "print(f\"Failed: {summary['failed_tasks']}\")\n",
    "print(f\"Total Duration: {summary['duration']}\")\n",
    "\n",
    "print(\"\\nTask Details:\")\n",
    "for name, task in summary['tasks'].items():\n",
    "    status = task['status']\n",
    "    duration = task['end_time'] - task['start_time'] if task['end_time'] and task['start_time'] else None\n",
    "    print(f\"\\n{name}:\")\n",
    "    print(f\"  Status: {status}\")\n",
    "    print(f\"  Duration: {duration}\")\n",
    "    if task['error']:\n",
    "        print(f\"  Error: {task['error']}\")"
   ]
  },
  {
   "cell_type": "markdown",
   "metadata": {},
   "source": [
    "## Why This Matters\n",
    "\n",
    "Having all this data in one place is crucial because:\n",
    "- We can see the complete picture of how teams play\n",
    "- We can track changes over many decades\n",
    "- We can connect different aspects of the game (like how injuries affect shooting)\n",
    "- We have enough data to find real patterns, not just random variation\n",
    "\n",
    "## Next Steps\n",
    "\n",
    "With our data collected and organized, we're ready to move on to cleaning and standardization. Think of it like having all the ingredients for a recipe - now we need to prepare them properly before we can start cooking."
   ]
  }
 ],
 "metadata": {
  "kernelspec": {
   "display_name": "Python 3",
   "language": "python",
   "name": "python3"
  },
  "language_info": {
   "codemirror_mode": {
    "name": "ipython",
    "version": 3
   },
   "file_extension": ".py",
   "mimetype": "text/x-python",
   "name": "python",
   "nbconvert_exporter": "python",
   "pygments_lexer": "ipython3",
   "version": "3.8.0"
  }
 },
 "nbformat": 4,
 "nbformat_minor": 4
}

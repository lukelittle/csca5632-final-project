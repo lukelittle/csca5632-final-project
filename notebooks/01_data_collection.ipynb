{
 "cells": [
  {
   "cell_type": "markdown",
   "metadata": {},
   "source": [
    "# NBA Team Pattern Analysis - Data Collection\n",
    "\n",
    "This notebook gathers historical NBA team statistics to create a dataset for unsupervised learning analysis. The data will be used to discover natural patterns in team playing styles, performance characteristics, and strategic approaches.\n",
    "\n",
    "## Notebook Overview\n",
    "\n",
    "1. **Setup and Imports**: Load libraries and prepare the environment.\n",
    "2. **Kaggle Data Collection**: Download comprehensive team statistics from Kaggle.\n",
    "3. **Collection Summary**: Review the collected data.\n",
    "\n",
    "## Data Collection Strategy\n",
    "\n",
    "For our unsupervised learning analysis, we need rich, multi-dimensional data that captures various aspects of team performance:\n",
    "\n",
    "- **Shot Locations**: To identify shooting pattern clusters and offensive strategies\n",
    "- **Injury Data**: To understand how personnel availability affects team performance patterns\n",
    "- **Team Statistics**: To capture overall performance metrics and playing style indicators"
   ]
  },
  {
   "cell_type": "markdown",
   "metadata": {},
   "source": [
    "## Setup and Imports\n",
    "\n",
    "This section sets up the environment by importing necessary libraries and enabling logging to monitor progress during data collection."
   ]
  },
  {
   "cell_type": "code",
   "execution_count": 1,
   "metadata": {},
   "outputs": [
    {
     "name": "stderr",
     "output_type": "stream",
     "text": [
      "/Users/luke/src/github.com/lukelittle/csca5632-final-project/venv/lib/python3.12/site-packages/kaggle/api_client.py:244: SyntaxWarning: invalid escape sequence '\\['\n",
      "  sub_kls = re.match('list\\[(.*)\\]', klass).group(1)\n",
      "/Users/luke/src/github.com/lukelittle/csca5632-final-project/venv/lib/python3.12/site-packages/kaggle/api_client.py:249: SyntaxWarning: invalid escape sequence '\\('\n",
      "  sub_kls = re.match('dict\\(([^,]*), (.*)\\)', klass).group(2)\n",
      "/Users/luke/src/github.com/lukelittle/csca5632-final-project/venv/lib/python3.12/site-packages/kaggle/api/kaggle_api.py:1055: SyntaxWarning: invalid escape sequence '\\&'\n",
      "  \"\"\"Creates (aka \\&quot;drops\\&quot;) a new file into the inbox.  # noqa: E501\n",
      "/Users/luke/src/github.com/lukelittle/csca5632-final-project/venv/lib/python3.12/site-packages/kaggle/api/kaggle_api.py:1076: SyntaxWarning: invalid escape sequence '\\&'\n",
      "  \"\"\"Creates (aka \\&quot;drops\\&quot;) a new file into the inbox.  # noqa: E501\n"
     ]
    }
   ],
   "source": [
    "import os\n",
    "import sys\n",
    "from datetime import datetime\n",
    "\n",
    "# Add the src directory to the Python path to access utility functions\n",
    "sys.path.append('..')\n",
    "\n",
    "# Import utility functions and classes for logging and progress tracking\n",
    "from src.data.utils import setup_logging, DataCollectionProgress\n",
    "from src.data.collectors.kaggle_collector import KaggleCollector\n",
    "\n",
    "# Set up logging to track the progress of the data collection process\n",
    "logger = setup_logging()\n",
    "\n",
    "# Initialize a progress tracker to monitor the status of each data collection task\n",
    "progress = DataCollectionProgress()\n",
    "\n",
    "# Initialize the KaggleCollector to manage dataset downloads\n",
    "kaggle = KaggleCollector('../data/raw/kaggle')"
   ]
  },
  {
   "cell_type": "markdown",
   "metadata": {},
   "source": [
    "## Kaggle Data Collection\n",
    "\n",
    "We use the Kaggle API to download comprehensive team statistics. Each dataset provides unique insights for our pattern analysis:\n",
    "\n",
    "### NBA Shot Locations Dataset\n",
    "\n",
    "This dataset provides detailed shot locations and types, which will help us:\n",
    "- Identify distinct shooting patterns and offensive strategies\n",
    "- Cluster teams based on shot selection preferences\n",
    "- Discover evolving trends in offensive approaches"
   ]
  },
  {
   "cell_type": "code",
   "execution_count": 2,
   "metadata": {},
   "outputs": [
    {
     "name": "stderr",
     "output_type": "stream",
     "text": [
      "2025-02-23 11:11:54 - INFO - Downloading dataset: nba_shots\n"
     ]
    },
    {
     "name": "stdout",
     "output_type": "stream",
     "text": [
      "Dataset URL: https://www.kaggle.com/datasets/mexwell/nba-shots\n"
     ]
    },
    {
     "name": "stderr",
     "output_type": "stream",
     "text": [
      "2025-02-23 11:12:45 - INFO - Successfully downloaded nba_shots\n",
      "2025-02-23 11:12:45 - INFO - Successfully downloaded NBA shots dataset\n"
     ]
    }
   ],
   "source": [
    "# Download NBA Shots Dataset\n",
    "progress.add_task('download_shots', total_steps=1)\n",
    "progress.start_task('download_shots')\n",
    "\n",
    "try:\n",
    "    result = kaggle.download_dataset('nba_shots', 'mexwell/nba-shots')\n",
    "    if result['status'] == 'success':\n",
    "        logger.info(\"Successfully downloaded NBA shots dataset\")\n",
    "        progress.complete_task('download_shots')\n",
    "    else:\n",
    "        logger.error(f\"Failed to download NBA shots dataset: {result['error']}\")\n",
    "        progress.complete_task('download_shots', success=False)\n",
    "except Exception as e:\n",
    "    logger.error(f\"Error downloading NBA shots dataset: {str(e)}\")\n",
    "    progress.complete_task('download_shots', success=False, error=str(e))"
   ]
  },
  {
   "cell_type": "markdown",
   "metadata": {},
   "source": [
    "### NBA Injury Statistics Dataset\n",
    "\n",
    "This dataset includes injury data from 1951-2023, which will help us:\n",
    "- Analyze how injury patterns affect team performance clusters\n",
    "- Identify teams with similar injury impact patterns\n",
    "- Understand the relationship between roster availability and playing style"
   ]
  },
  {
   "cell_type": "code",
   "execution_count": 3,
   "metadata": {},
   "outputs": [
    {
     "name": "stderr",
     "output_type": "stream",
     "text": [
      "2025-02-23 11:12:45 - INFO - Downloading dataset: nba_injuries\n"
     ]
    },
    {
     "name": "stdout",
     "output_type": "stream",
     "text": [
      "Dataset URL: https://www.kaggle.com/datasets/loganlauton/nba-injury-stats-1951-2023\n"
     ]
    },
    {
     "name": "stderr",
     "output_type": "stream",
     "text": [
      "2025-02-23 11:12:46 - INFO - Successfully downloaded nba_injuries\n",
      "2025-02-23 11:12:46 - INFO - Successfully downloaded NBA injury stats dataset\n"
     ]
    }
   ],
   "source": [
    "# Download NBA Injury Stats Dataset\n",
    "progress.add_task('download_injuries', total_steps=1)\n",
    "progress.start_task('download_injuries')\n",
    "\n",
    "try:\n",
    "    result = kaggle.download_dataset('nba_injuries', 'loganlauton/nba-injury-stats-1951-2023')\n",
    "    if result['status'] == 'success':\n",
    "        logger.info(\"Successfully downloaded NBA injury stats dataset\")\n",
    "        progress.complete_task('download_injuries')\n",
    "    else:\n",
    "        logger.error(f\"Failed to download NBA injury stats dataset: {result['error']}\")\n",
    "        progress.complete_task('download_injuries', success=False)\n",
    "except Exception as e:\n",
    "    logger.error(f\"Error downloading NBA injury stats dataset: {str(e)}\")\n",
    "    progress.complete_task('download_injuries', success=False, error=str(e))"
   ]
  },
  {
   "cell_type": "markdown",
   "metadata": {},
   "source": [
    "### NBA/ABA/BAA Team Statistics Dataset\n",
    "\n",
    "This comprehensive dataset contains historical team statistics, which will help us:\n",
    "- Identify natural team archetypes through clustering\n",
    "- Track the evolution of playing styles over time\n",
    "- Discover patterns in successful team strategies"
   ]
  },
  {
   "cell_type": "code",
   "execution_count": 4,
   "metadata": {},
   "outputs": [
    {
     "name": "stderr",
     "output_type": "stream",
     "text": [
      "2025-02-23 11:12:46 - INFO - Downloading dataset: nba_team_stats\n"
     ]
    },
    {
     "name": "stdout",
     "output_type": "stream",
     "text": [
      "Dataset URL: https://www.kaggle.com/datasets/sumitrodatta/nba-aba-baa-stats\n"
     ]
    },
    {
     "name": "stderr",
     "output_type": "stream",
     "text": [
      "2025-02-23 11:12:57 - INFO - Successfully downloaded nba_team_stats\n",
      "2025-02-23 11:12:57 - INFO - Successfully downloaded NBA team stats dataset\n"
     ]
    }
   ],
   "source": [
    "# Download NBA Team Stats Dataset\n",
    "progress.add_task('download_team_stats', total_steps=1)\n",
    "progress.start_task('download_team_stats')\n",
    "\n",
    "try:\n",
    "    result = kaggle.download_dataset('nba_team_stats', 'sumitrodatta/nba-aba-baa-stats')\n",
    "    if result['status'] == 'success':\n",
    "        logger.info(\"Successfully downloaded NBA team stats dataset\")\n",
    "        progress.complete_task('download_team_stats')\n",
    "    else:\n",
    "        logger.error(f\"Failed to download NBA team stats dataset: {result['error']}\")\n",
    "        progress.complete_task('download_team_stats', success=False)\n",
    "except Exception as e:\n",
    "    logger.error(f\"Error downloading NBA team stats dataset: {str(e)}\")\n",
    "    progress.complete_task('download_team_stats', success=False, error=str(e))"
   ]
  },
  {
   "cell_type": "markdown",
   "metadata": {},
   "source": [
    "## Collection Summary\n",
    "\n",
    "This section reviews the data collection results and verifies that we have all necessary components for our unsupervised learning analysis."
   ]
  },
  {
   "cell_type": "code",
   "execution_count": 5,
   "metadata": {},
   "outputs": [
    {
     "name": "stdout",
     "output_type": "stream",
     "text": [
      "Data Collection Summary:\n",
      "Total Tasks: 3\n",
      "Completed Successfully: 3\n",
      "Failed: 0\n",
      "Total Duration: 0:01:02.646730\n",
      "\n",
      "Task Details:\n",
      "\n",
      "download_shots:\n",
      "  Status: completed\n",
      "  Duration: 0:00:50.974139\n",
      "\n",
      "download_injuries:\n",
      "  Status: completed\n",
      "  Duration: 0:00:00.750074\n",
      "\n",
      "download_team_stats:\n",
      "  Status: completed\n",
      "  Duration: 0:00:10.882870\n"
     ]
    }
   ],
   "source": [
    "# Get a summary of the data collection process\n",
    "summary = progress.get_summary()\n",
    "\n",
    "print(f\"Data Collection Summary:\")\n",
    "print(f\"Total Tasks: {summary['total_tasks']}\")\n",
    "print(f\"Completed Successfully: {summary['completed_tasks']}\")\n",
    "print(f\"Failed: {summary['failed_tasks']}\")\n",
    "print(f\"Total Duration: {summary['duration']}\")\n",
    "\n",
    "print(\"\\nTask Details:\")\n",
    "for name, task in summary['tasks'].items():\n",
    "    status = task['status']\n",
    "    duration = task['end_time'] - task['start_time'] if task['end_time'] and task['start_time'] else None\n",
    "    print(f\"\\n{name}:\")\n",
    "    print(f\"  Status: {status}\")\n",
    "    print(f\"  Duration: {duration}\")\n",
    "    if task['error']:\n",
    "        print(f\"  Error: {task['error']}\")"
   ]
  }
 ],
 "metadata": {
  "kernelspec": {
   "display_name": "venv",
   "language": "python",
   "name": "python3"
  },
  "language_info": {
   "codemirror_mode": {
    "name": "ipython",
    "version": 3
   },
   "file_extension": ".py",
   "mimetype": "text/x-python",
   "name": "python",
   "nbconvert_exporter": "python",
   "pygments_lexer": "ipython3",
   "version": "3.12.2"
  }
 },
 "nbformat": 4,
 "nbformat_minor": 4
}

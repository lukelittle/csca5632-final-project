{
 "cells": [
  {
   "cell_type": "markdown",
   "metadata": {},
   "source": [
    "# NBA Team Pattern Analysis - Abstract\n",
    "\n",
    "**Lucas Little**\n",
    "**CSCA5632**\n",
    "**University of Colorado Boulder**\n",
    "\n",
    "## Project Overview\n",
    "\n",
    "This project uses unsupervised learning techniques to discover natural patterns and team archetypes in NBA data. The analysis leverages data from several sources:\n",
    "\n",
    "* [NBA Shots Dataset](https://www.kaggle.com/datasets/mexwell/nba-shots)\n",
    "* [NBA Injury Stats Dataset](https://www.kaggle.com/datasets/loganlauton/nba-injury-stats-1951-2023)\n",
    "* [NBA/ABA/BAA Team Statistics Dataset](https://www.kaggle.com/datasets/sumitrodatta/nba-aba-baa-stats)\n",
    "\n",
    "## Analysis Approaches\n",
    "\n",
    "The project employs three main unsupervised learning approaches:\n",
    "\n",
    "1. **Clustering Analysis**\n",
    "   * K-means clustering to identify team archetypes\n",
    "   * Hierarchical clustering to understand relationships between playing styles\n",
    "\n",
    "2. **Dimensionality Reduction**\n",
    "   * PCA to identify key performance components\n",
    "   * t-SNE for non-linear visualization of team relationships\n",
    "\n",
    "3. **Anomaly Detection**\n",
    "   * Isolation Forest to identify unusual team performances\n",
    "   * Analysis of outlier seasons and strategies\n",
    "\n",
    "## Research Goals\n",
    "\n",
    "Through these techniques, we aim to:\n",
    "* Discover natural groupings of NBA teams based on playing style\n",
    "* Identify patterns in successful team strategies\n",
    "* Understand how injuries affect team performance patterns\n",
    "* Track the evolution of NBA playing styles over time\n",
    "\n",
    "This unsupervised learning approach provides deeper insights into NBA team patterns and relationships compared to traditional supervised classification methods."
   ]
  }
 ],
 "metadata": {
  "kernelspec": {
   "display_name": "Python 3",
   "language": "python",
   "name": "python3"
  },
  "language_info": {
   "codemirror_mode": {
    "name": "ipython",
    "version": 3
   },
   "file_extension": ".py",
   "mimetype": "text/x-python",
   "name": "python",
   "nbconvert_exporter": "python",
   "pygments_lexer": "ipython3",
   "version": "3.8.5"
  }
 },
 "nbformat": 4,
 "nbformat_minor": 4
}
